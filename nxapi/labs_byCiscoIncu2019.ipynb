{
 "cells": [
  {
   "cell_type": "markdown",
   "metadata": {},
   "source": [
    "# APIs for Network Programmability - Demo Lab"
   ]
  },
  {
   "cell_type": "markdown",
   "metadata": {},
   "source": [
    "----"
   ]
  },
  {
   "cell_type": "markdown",
   "metadata": {},
   "source": [
    "## Lab 1: JSON vs XML \n",
    "\n"
   ]
  },
  {
   "cell_type": "markdown",
   "metadata": {},
   "source": [
    "## JSON Discovery Lab\n",
    "\n",
    "##### In this discovery lab, you will learn to work with basic JSON objects using the JSON module in Python. It will become important to understand and know as you start working with NXOS APIs that are returning data in JSON.\n",
    "\n",
    "\n",
    "### STEP 1\n",
    "\n",
    "Create a dictionary. You will see how a dictionary object with key-value pairs natively maps to JSON objects of name-value pairs. They are, for all intents and purposes the same thing.\n"
   ]
  },
  {
   "cell_type": "code",
   "execution_count": null,
   "metadata": {},
   "outputs": [],
   "source": [
    "neighbor = {'hostname': 'nxos2', 'os': 'nx-os', 'model': '9396'}\n",
    "print(type(neighbor))\n"
   ]
  },
  {
   "cell_type": "markdown",
   "metadata": {},
   "source": [
    "### STEP 2\n",
    "\n",
    "Import the JSON module and dump the dictionary that is called neighbors as a JSON string.\n"
   ]
  },
  {
   "cell_type": "code",
   "execution_count": null,
   "metadata": {},
   "outputs": [],
   "source": [
    "import json\n",
    "\n",
    "print(json.dumps(neighbor, indent=4))\n"
   ]
  },
  {
   "cell_type": "markdown",
   "metadata": {},
   "source": [
    "_Note: The function that is called dumps means dump as a string. It is also a helpful way to pretty print dictionaries._\n"
   ]
  },
  {
   "cell_type": "markdown",
   "metadata": {},
   "source": [
    "### Step 3\n",
    "\n",
    "Save the object being dumped as a new variable called data. Print data and then check its data `type` using the type function.\n"
   ]
  },
  {
   "cell_type": "code",
   "execution_count": null,
   "metadata": {},
   "outputs": [],
   "source": [
    "data = json.dumps(neighbor, indent=4)\n",
    "data"
   ]
  },
  {
   "cell_type": "code",
   "execution_count": null,
   "metadata": {},
   "outputs": [],
   "source": [
    "print(data)"
   ]
  },
  {
   "cell_type": "markdown",
   "metadata": {},
   "source": [
    "### Step 4\n",
    "\n",
    "Use the json.loads() functions to load a JSON string and make it a dictionary.\n"
   ]
  },
  {
   "cell_type": "code",
   "execution_count": null,
   "metadata": {},
   "outputs": [],
   "source": [
    "data_dict = json.loads(data)\n",
    "data_dict['os']"
   ]
  },
  {
   "cell_type": "code",
   "execution_count": null,
   "metadata": {},
   "outputs": [],
   "source": [
    "print(data_dict['os'])"
   ]
  },
  {
   "cell_type": "code",
   "execution_count": null,
   "metadata": {},
   "outputs": [],
   "source": [
    "#If you tried access os from data, you would see this error:\n",
    "data['os']"
   ]
  },
  {
   "cell_type": "markdown",
   "metadata": {},
   "source": [
    "_Note: APIs are going to return data as JSON strings. This means you will need to use json.loads to work with API responses. The reverse is true as well. In order to make an API request, you need to send a JSON string meaning you’ll need to do a `json.dumps(<your-dictionary>)` to send your object over the wire. You’ll see this soon as we start working with network APIs._"
   ]
  },
  {
   "cell_type": "markdown",
   "metadata": {},
   "source": [
    "### Step 5\n",
    "\n",
    "You can see the JSON format of a command output directly from NX-OS CLI using `json` or `json-pretty` keyword.\n",
    "In another terminal session, SSH to nxosv switch and execute the command, *`show version | json-pretty`*.\n",
    "\n",
    "\n",
    "```\n",
    "BRU-AP1-LEAF1# show version | json-pretty \n",
    "{\n",
    "    \"header_str\": \"Cisco Nexus Operating System (NX-OS) Software\\nTAC support: http://www.cisco.com/tac\\nCopyright (C) 2002-2018, Cisco and/or its affiliates.\\nAll rights reserved.\\nThe\n",
    " copyrights to certain works contained in this software are\\nowned by other third parties and used and distributed under their own\\nlicenses, such as open source.  This software is prov\n",
    "ided \\\"as is,\\\" and unless\\notherwise stated, there is no warranty, express or implied, including but not\\nlimited to warranties of merchantability and fitness for a particular purpose.\n",
    "\\nCertain components of this software are licensed under\\nthe GNU General Public License (GPL) version 2.0 or \\nGNU General Public License (GPL) version 3.0  or the GNU\\nLesser General \n",
    "Public License (LGPL) Version 2.1 or \\nLesser General Public License (LGPL) Version 2.0. \\nA copy of each such license is available at\\nhttp://www.opensource.org/licenses/gpl-2.0.php an\n",
    "d\\nhttp://opensource.org/licenses/gpl-3.0.html and\\nhttp://www.opensource.org/licenses/lgpl-2.1.php and\\nhttp://www.gnu.org/licenses/old-licenses/library.txt.\", \n",
    "    \"bios_ver_str\": \"07.61\", \n",
    "    \"kickstart_ver_str\": \"7.0(3)I7(3)\", \n",
    "    \"bios_cmpl_time\": \"04/06/2017\", \n",
    "    \"kick_file_name\": \"bootflash:///nxos.7.0.3.I7.3.bin\", \n",
    "    \"kick_cmpl_time\": \"2/12/2018 13:00:00\", \n",
    "    \"kick_tmstmp\": \"02/12/2018 19:13:48\", \n",
    "    \"chassis_id\": \"Nexus9000 C92160YC-X chassis\", \n",
    "    \"cpu_name\": \"Intel(R) Core(TM) i3- CPU @ 2.50GHz\", \n",
    "    \"memory\": \"16400992\", \n",
    "    \"mem_type\": \"kB\", \n",
    "    \"proc_board_id\": \"FDO21081J46\", \n",
    "    \"host_name\": \"BRU-AP1-LEAF1\", \n",
    "    \"bootflash_size\": \"53298520\", \n",
    "    \"kern_uptm_days\": \"12\", \n",
    "    \"kern_uptm_hrs\": \"3\", \n",
    "    \"kern_uptm_mins\": \"10\", \n",
    "    \"kern_uptm_secs\": \"18\", \n",
    "    \"rr_reason\": \"Unknown\", \n",
    "    \"rr_sys_ver\": \"7.0(3)I7(3)\", \n",
    "    \"rr_service\": null, \n",
    "    \"manufacturer\": \"Cisco Systems, Inc.\", \n",
    "    \"TABLE_package_list\": {\n",
    "        \"ROW_package_list\": {\n",
    "            \"package_id\": null\n",
    "        }\n",
    "    }\n",
    "}\n",
    "```\n",
    "\n",
    "In contrast to normal `show version` output:\n",
    "\n",
    "```\n",
    "BRU-AP1-LEAF1# show version\n",
    "Cisco Nexus Operating System (NX-OS) Software\n",
    "TAC support: http://www.cisco.com/tac\n",
    "Copyright (C) 2002-2018, Cisco and/or its affiliates.\n",
    "All rights reserved.\n",
    "The copyrights to certain works contained in this software are\n",
    "owned by other third parties and used and distributed under their own\n",
    "licenses, such as open source.  This software is provided \"as is,\" and unless\n",
    "otherwise stated, there is no warranty, express or implied, including but not\n",
    "limited to warranties of merchantability and fitness for a particular purpose.\n",
    "Certain components of this software are licensed under\n",
    "the GNU General Public License (GPL) version 2.0 or \n",
    "GNU General Public License (GPL) version 3.0  or the GNU\n",
    "Lesser General Public License (LGPL) Version 2.1 or \n",
    "Lesser General Public License (LGPL) Version 2.0. \n",
    "A copy of each such license is available at\n",
    "http://www.opensource.org/licenses/gpl-2.0.php and\n",
    "http://opensource.org/licenses/gpl-3.0.html and\n",
    "http://www.opensource.org/licenses/lgpl-2.1.php and\n",
    "http://www.gnu.org/licenses/old-licenses/library.txt.\n",
    "\n",
    "Software\n",
    "  BIOS: version 07.61\n",
    "  NXOS: version 7.0(3)I7(3)\n",
    "  BIOS compile time:  04/06/2017\n",
    "  NXOS image file is: bootflash:///nxos.7.0.3.I7.3.bin\n",
    "  NXOS compile time:  2/12/2018 13:00:00 [02/12/2018 19:13:48]\n",
    "\n",
    "\n",
    "Hardware\n",
    "  cisco Nexus9000 C92160YC-X chassis \n",
    "  Intel(R) Core(TM) i3- CPU @ 2.50GHz with 16400992 kB of memory.\n",
    "  Processor Board ID FDO21081J46\n",
    "\n",
    "  Device name: BRU-AP1-LEAF1\n",
    "  bootflash:   53298520 kB\n",
    "Kernel uptime is 13 day(s), 4 hour(s), 51 minute(s), 8 second(s)\n",
    "\n",
    "Last reset \n",
    "  Reason: Unknown\n",
    "  System version: 7.0(3)I7(3)\n",
    "  Service: \n",
    "\n",
    "plugin\n",
    "  Core Plugin, Ethernet Plugin\n",
    "\n",
    "Active Package(s):\n",
    "```\n",
    "\n",
    "\n",
    "\n",
    "### Step 6 \n",
    "\n",
    "Copy and paste the output from the *`show version`* command into the Python shell saving it as a variable called **show_version_json_str**. It will need to be a multi-line string. Ensure that you use triple quotes to start and end the string.\n",
    "\n",
    "Note: use raw-literals - `r'string'` or `r\"\"\" string \"\"\"` -  in order to avoid issues with escaping new-line char.\n"
   ]
  },
  {
   "cell_type": "code",
   "execution_count": null,
   "metadata": {},
   "outputs": [],
   "source": [
    "show_version_json_str = r\"\"\"\n",
    "{\n",
    "    \"header_str\": \"Cisco Nexus Operating System (NX-OS) Software\\nTAC support: http://www.cisco.com/tac\", \n",
    "    \"bios_ver_str\": \"07.61\", \n",
    "    \"kickstart_ver_str\": \"7.0(3)I7(3)\", \n",
    "    \"bios_cmpl_time\": \"04/06/2017\", \n",
    "    \"kick_file_name\": \"bootflash:///nxos.7.0.3.I7.3.bin\", \n",
    "    \"kick_cmpl_time\": \"2/12/2018 13:00:00\", \n",
    "    \"kick_tmstmp\": \"02/12/2018 19:13:48\", \n",
    "    \"chassis_id\": \"Nexus9000 C92160YC-X chassis\", \n",
    "    \"cpu_name\": \"Intel(R) Core(TM) i3- CPU @ 2.50GHz\", \n",
    "    \"memory\": \"16400992\", \n",
    "    \"mem_type\": \"kB\", \n",
    "    \"proc_board_id\": \"FDO21081J46\", \n",
    "    \"host_name\": \"BRU-AP1-LEAF1\", \n",
    "    \"bootflash_size\": \"53298520\", \n",
    "    \"kern_uptm_days\": \"12\", \n",
    "    \"kern_uptm_hrs\": \"3\", \n",
    "    \"kern_uptm_mins\": \"10\", \n",
    "    \"kern_uptm_secs\": \"18\", \n",
    "    \"rr_reason\": \"Unknown\", \n",
    "    \"rr_sys_ver\": \"7.0(3)I7(3)\", \n",
    "    \"rr_service\": null, \n",
    "    \"manufacturer\": \"Cisco Systems, Inc.\", \n",
    "    \"TABLE_package_list\": {\n",
    "        \"ROW_package_list\": {\n",
    "            \"package_id\": null\n",
    "        }\n",
    "    }\n",
    "}\n",
    "\"\"\""
   ]
  },
  {
   "cell_type": "markdown",
   "metadata": {},
   "source": [
    "### Step 7\n",
    "\n",
    "Using the same procedure as earlier, use `load()` method to convert a JSON string to a dictionary.\n"
   ]
  },
  {
   "cell_type": "code",
   "execution_count": null,
   "metadata": {},
   "outputs": [],
   "source": [
    "show_version_json_dict = json.loads(show_version_json_str)\n",
    "print(show_version_json_dict)"
   ]
  },
  {
   "cell_type": "markdown",
   "metadata": {},
   "source": [
    "### Step 8\n",
    "\n",
    "Print the name of the device and version running"
   ]
  },
  {
   "cell_type": "code",
   "execution_count": null,
   "metadata": {},
   "outputs": [],
   "source": [
    "print(show_version_json_dict['host_name'])\n",
    "print(show_version_json_dict['kickstart_ver_str'])"
   ]
  },
  {
   "cell_type": "markdown",
   "metadata": {},
   "source": [
    " "
   ]
  },
  {
   "cell_type": "markdown",
   "metadata": {},
   "source": [
    " ---------"
   ]
  },
  {
   "cell_type": "markdown",
   "metadata": {},
   "source": [
    " "
   ]
  },
  {
   "cell_type": "markdown",
   "metadata": {},
   "source": [
    "# XML Discovery Lab\n",
    "\n",
    "##### In this discovery lab, you will learn to work with basic XML objects using the lxml and xmltodict module in Python. It will become important to understand and know as you start working with NETCONF APIs that are returning data as XML, but at the same time REST APIs that can also return data as XML strings.\n",
    "\n",
    "\n",
    "## lxml Library\n",
    "\n",
    "\n",
    "### Step 1\n",
    "\n",
    "Create the following XML string. It is going to simulate a REST API response from a network device.\n"
   ]
  },
  {
   "cell_type": "code",
   "execution_count": null,
   "metadata": {},
   "outputs": [],
   "source": [
    "xml_str = '<interfaces><interface>Eth1/1</interface></interfaces>'"
   ]
  },
  {
   "cell_type": "markdown",
   "metadata": {},
   "source": [
    "### Step 2\n",
    "\n",
    "Use the following statement to import the **etree** object from the **lxml** Python module. This object will allow you to convert XML strings to actual objects, and vice versa.\n",
    "\n",
    "If you don't have **lxml** module, use pip to install it"
   ]
  },
  {
   "cell_type": "code",
   "execution_count": null,
   "metadata": {},
   "outputs": [],
   "source": [
    "from lxml import etree"
   ]
  },
  {
   "cell_type": "markdown",
   "metadata": {},
   "source": [
    "### Step 3\n",
    "\n",
    "Convert **xml_str** to an actual XML object using the fromstring method.\n"
   ]
  },
  {
   "cell_type": "code",
   "execution_count": null,
   "metadata": {},
   "outputs": [],
   "source": [
    "xml_data = etree.fromstring(xml_str)"
   ]
  },
  {
   "cell_type": "markdown",
   "metadata": {},
   "source": [
    "### Step 4\n",
    "\n",
    "Verify the data types of both xml_str and xml_data.\n",
    "\n",
    "_Note: You should see the distinct difference that one is a string and one is an 'lxml.etree._Element' which is a native type of XML object in Python._"
   ]
  },
  {
   "cell_type": "code",
   "execution_count": null,
   "metadata": {},
   "outputs": [],
   "source": [
    "print(type(xml_str))\n",
    "print(type(xml_data))\n"
   ]
  },
  {
   "cell_type": "markdown",
   "metadata": {},
   "source": [
    "### Step 5\n",
    "Print xml_data. You can see here that it is an Element and the name of the element is always the top-level object in the XML tree.\n"
   ]
  },
  {
   "cell_type": "code",
   "execution_count": null,
   "metadata": {},
   "outputs": [],
   "source": [
    "print(xml_data)"
   ]
  },
  {
   "cell_type": "markdown",
   "metadata": {},
   "source": [
    "### Step 6\n",
    "\n",
    "Use the **.find()** method of `lxml.etree._Element` objects to search the full XML object for the interface object. Then print its value.\n",
    "\n"
   ]
  },
  {
   "cell_type": "code",
   "execution_count": null,
   "metadata": {},
   "outputs": [],
   "source": [
    "intf = xml_data.find('.//interface')\n",
    "intf"
   ]
  },
  {
   "cell_type": "code",
   "execution_count": null,
   "metadata": {},
   "outputs": [],
   "source": [
    "intf.text"
   ]
  },
  {
   "cell_type": "markdown",
   "metadata": {},
   "source": [
    "### Step 7\n",
    "\n",
    "In another terminal session, SSH to nxosv switch and execute the command, *`show version | xml`*.\n",
    "\n",
    "\n",
    "```\n",
    "BRU-AP1-LEAF1# show hostname | xml\n",
    "<?xml version=\"1.0\" encoding=\"ISO-8859-1\"?>\n",
    "<nf:rpc-reply xmlns=\"http://www.cisco.com/nxos:1.0:vdc_mgr\" xmlns:nf=\"urn:ietf:params:xml:ns:netconf:base:1.0\">\n",
    " <nf:data>\n",
    "  <show>\n",
    "   <__XML__BLK_Cmd_SHOW_HOSTNAME_hostname>\n",
    "    <__XML__OPT_Cmd_SHOW_HOSTNAME___readonly__>\n",
    "     <__readonly__>\n",
    "      <hostname>BRU-AP1-LEAF1</hostname>\n",
    "     </__readonly__>\n",
    "    </__XML__OPT_Cmd_SHOW_HOSTNAME___readonly__>\n",
    "   </__XML__BLK_Cmd_SHOW_HOSTNAME_hostname>\n",
    "  </show>\n",
    " </nf:data>\n",
    "</nf:rpc-reply>\n",
    "]]>]]>\n",
    "```\n"
   ]
  },
  {
   "cell_type": "markdown",
   "metadata": {},
   "source": [
    "### Step 8\n",
    "\n",
    "Copy and paste the output from the *`show hostname`* command into the Python shell saving it as a variable called **show_version_xml_str**. It will need to be a multi-line string. Ensure that you use triple quotes to start and end the string\n",
    "\n",
    "_When copying from the terminal window make sure the window is wide enough so that the copied text is not wrapped. Otherwise when you paste it into the Python variable assignment it may not be proper XML._\n",
    "\n",
    "Also take note of the first few lines in the output.\n",
    "\n",
    "```\n",
    "<nf:rpc-reply xmlns=\"http://www.cisco.com/nxos:1.0:vdc_mgr\" xmlns:nf=\"urn:ietf:params:xml:ns:netconf:base:1.0\">\n",
    "```\n",
    "\n",
    "Here you can see the default namespace is `http://www.cisco.com/nxos:1.0:vdc_mgr`, but there is another namespace `urn:ietf:params:xml:ns:netconf:base:1.0` prefixed with nf.\n",
    "\n"
   ]
  },
  {
   "cell_type": "code",
   "execution_count": null,
   "metadata": {},
   "outputs": [],
   "source": [
    "show_ver_xml_str = \"\"\"\n",
    "<nf:rpc-reply xmlns=\"http://www.cisco.com/nxos:1.0:vdc_mgr\" xmlns:nf=\"urn:ietf:params:xml:ns:netconf:base:1.0\">\n",
    " <nf:data>\n",
    "  <show>\n",
    "   <__XML__BLK_Cmd_SHOW_HOSTNAME_hostname>\n",
    "    <__XML__OPT_Cmd_SHOW_HOSTNAME___readonly__>\n",
    "     <__readonly__>\n",
    "      <hostname>BRU-AP1-LEAF1</hostname>\n",
    "     </__readonly__>\n",
    "    </__XML__OPT_Cmd_SHOW_HOSTNAME___readonly__>\n",
    "   </__XML__BLK_Cmd_SHOW_HOSTNAME_hostname>\n",
    "  </show>\n",
    " </nf:data>\n",
    "</nf:rpc-reply>\n",
    "\"\"\""
   ]
  },
  {
   "cell_type": "markdown",
   "metadata": {},
   "source": [
    "### Step 9 \n",
    "\n",
    "Using the same procedure as earlier, use `etree.fromstring()` and the find method to print the hostname of the device.\n",
    "\n",
    "\n"
   ]
  },
  {
   "cell_type": "code",
   "execution_count": null,
   "metadata": {},
   "outputs": [],
   "source": [
    "show_ver_xml_data = etree.fromstring(show_ver_xml_str)\n",
    "\n",
    "print(show_ver_xml_data)"
   ]
  },
  {
   "cell_type": "markdown",
   "metadata": {},
   "source": [
    "The major difference here is namespaces are being used. In order to use **find()** when namespaces are being used, you need to preface the object you searching for with the namespace:\n"
   ]
  },
  {
   "cell_type": "code",
   "execution_count": null,
   "metadata": {},
   "outputs": [],
   "source": [
    "hostname = show_ver_xml_data.find('.//{http://www.cisco.com/nxos:1.0:vdc_mgr}hostname')\n",
    "hostname.text"
   ]
  },
  {
   "cell_type": "markdown",
   "metadata": {},
   "source": [
    "There is another way to use namespace maps and even remove namespaces to improve this process. You will look at it as you dive deeper into NETCONF.\n"
   ]
  },
  {
   "cell_type": "markdown",
   "metadata": {},
   "source": [
    " "
   ]
  },
  {
   "cell_type": "markdown",
   "metadata": {},
   "source": [
    " "
   ]
  },
  {
   "cell_type": "markdown",
   "metadata": {},
   "source": [
    "------"
   ]
  },
  {
   "cell_type": "markdown",
   "metadata": {},
   "source": [
    "\n",
    "## xmltodict Library\n",
    "\n",
    "xmltodict is a simple library that aims at making XML feel like working with JSON. \n",
    "\n",
    "### Step 1 \n",
    "\n",
    "Import xmltodict and load the xml string **show_ver_xml_str** into a Python dict*\n",
    "\n",
    "*_technically is a OrderDict_\n",
    "\n",
    "\n"
   ]
  },
  {
   "cell_type": "code",
   "execution_count": null,
   "metadata": {},
   "outputs": [],
   "source": [
    "import xmltodict\n",
    "from pprint import pprint \n",
    "\n",
    "show_vers_xml_dict = xmltodict.parse(show_ver_xml_str)\n",
    "pprint(show_vers_xml_dict)"
   ]
  },
  {
   "cell_type": "markdown",
   "metadata": {},
   "source": [
    "### Step 2\n",
    "\n",
    "Print the host name from the OrderDict"
   ]
  },
  {
   "cell_type": "code",
   "execution_count": null,
   "metadata": {},
   "outputs": [],
   "source": [
    "show_vers_xml_dict['nf:rpc-reply']['nf:data']['show']['__XML__BLK_Cmd_SHOW_HOSTNAME_hostname']['__XML__OPT_Cmd_SHOW_HOSTNAME___readonly__']['__readonly__']['hostname']"
   ]
  },
  {
   "cell_type": "markdown",
   "metadata": {},
   "source": [
    " ---------"
   ]
  },
  {
   "cell_type": "markdown",
   "metadata": {},
   "source": [
    " ---------"
   ]
  },
  {
   "cell_type": "markdown",
   "metadata": {},
   "source": [
    " ---------"
   ]
  },
  {
   "cell_type": "markdown",
   "metadata": {},
   "source": [
    "# REST API Call using Requests library \n",
    "\n",
    "Just a quick REST API call using requests library"
   ]
  },
  {
   "cell_type": "markdown",
   "metadata": {},
   "source": [
    "### Step 1 \n",
    "\n",
    "Install request library, then import it \n",
    "\n",
    "```python\n",
    "pip install requests\n",
    "import requests\n",
    "```"
   ]
  },
  {
   "cell_type": "code",
   "execution_count": null,
   "metadata": {},
   "outputs": [],
   "source": [
    "import requests"
   ]
  },
  {
   "cell_type": "markdown",
   "metadata": {},
   "source": [
    "### Step 2\n",
    "\n",
    "Define your variables: \n",
    "```\n",
    "server \n",
    "uri \n",
    "header\n",
    "```\n"
   ]
  },
  {
   "cell_type": "code",
   "execution_count": null,
   "metadata": {},
   "outputs": [],
   "source": [
    "server = 'api.icndb.com'\n",
    "uri = 'https://{server}/jokes/random'.format(server = server)\n",
    "http_header = {'content-type': 'application/json'}\n"
   ]
  },
  {
   "cell_type": "markdown",
   "metadata": {},
   "source": [
    "### Step 3\n",
    "\n",
    "Use requests GET method to request a random joke, and print the result\n"
   ]
  },
  {
   "cell_type": "code",
   "execution_count": null,
   "metadata": {},
   "outputs": [],
   "source": [
    "r = requests.get(uri, headers=http_header)\n",
    "pprint(r.json())\n"
   ]
  },
  {
   "cell_type": "markdown",
   "metadata": {},
   "source": [
    "----"
   ]
  },
  {
   "cell_type": "markdown",
   "metadata": {},
   "source": [
    "----"
   ]
  },
  {
   "cell_type": "markdown",
   "metadata": {},
   "source": [
    "----"
   ]
  },
  {
   "cell_type": "markdown",
   "metadata": {},
   "source": [
    "----"
   ]
  },
  {
   "cell_type": "markdown",
   "metadata": {},
   "source": [
    "# NX-API CLI vs NX-API REST\n",
    "\n",
    "### Step 0\n",
    "\n",
    "If you are using a local Nexus 9000v, make sure you have ports 80/443 opened for your VM.\n",
    "Also, make sure you enable NXAPI feature\n",
    "\n",
    "```nxos-cli\n",
    "NEXUS# conf t\n",
    "NEXUS(config)# feature nxapi\n",
    "\n",
    "NEXUS(config)# show nxapi\n",
    "\n",
    "nxapi enabled\n",
    "HTTP Listen on port 80\n",
    "HTTPS Listen on port 443\n",
    "```"
   ]
  },
  {
   "cell_type": "markdown",
   "metadata": {},
   "source": [
    "#### The Always On NXOS Sandbox\n",
    "\n",
    "If you don't have a local box, no worries - you can access the `Always On NXOS Sandbox`:    \n",
    "        \n",
    "_Access Details:_\n",
    "- Nexus 9000v Host : **sbx-nxos-mgmt.cisco.com**\n",
    "- SSH Port: 8181\n",
    "- NETCONF Port: 10000\n",
    "- NXAPI Ports: 80 (http) & 443 (HTTPS)\n",
    "- RESTCONF Port : 443 (HTTPS)\n",
    "- Credentials:\n",
    "    - Username: **admin**\n",
    "    - Password: **Admin_1234!**\n",
    "\n",
    "Ref: https://devnetsandbox.cisco.com/RM/Diagram/Index/dae38dd8-e8ee-4d7c-a21c-6036bed7a804?diagramType=Topology\n",
    "\n",
    "\n",
    "\n",
    "To confirm the NXAPI feature is enabled, use a web browser and navigate to the Open NX-OS address:\n",
    "\n",
    "https://sbx-nxos-mgmt.cisco.com\n",
    "\n",
    "or, if you have a local environment\n",
    "\n",
    "https://local-ip:port\n",
    "\n",
    "\n",
    "\n",
    "## Python common-code"
   ]
  },
  {
   "cell_type": "code",
   "execution_count": null,
   "metadata": {},
   "outputs": [],
   "source": [
    "import requests\n",
    "import json\n",
    "\n",
    "online_nexus = {\"ip\": \"sbx-nxos-mgmt.cisco.com\",\n",
    "               \"port\": \"80\",\n",
    "               \"user\":\"admin\",\n",
    "               \"pass\":\"Admin_1234!\"}\n",
    "\n",
    "lab_nexus = {\"ip\": \"10.48.74.237\",\n",
    "        \"port\": \"80\",\n",
    "        \"user\": \"admin\",\n",
    "        \"pass\": \"cisco!123\"}\n",
    "\n",
    "uri = 'http://{}:{}/ins'.format(lab_nexus['ip'], lab_nexus['port'])\n"
   ]
  },
  {
   "cell_type": "markdown",
   "metadata": {},
   "source": [
    "### NX-API JSON-RPC\n",
    "-----"
   ]
  },
  {
   "cell_type": "code",
   "execution_count": null,
   "metadata": {},
   "outputs": [],
   "source": [
    "jsonrpc_headers = {'Content-Type': 'application/json-rpc'}\n",
    "\n",
    "payload = [\n",
    "          {\n",
    "            \"jsonrpc\": \"2.0\",\n",
    "            \"method\": \"cli\",\n",
    "            \"params\": {\n",
    "              \"cmd\": \"show hostname\",\n",
    "              \"version\": 1\n",
    "            },\n",
    "            \"id\": 1\n",
    "          }\n",
    "        ]\n",
    "\n",
    "response = requests.post(uri, \n",
    "                         data=json.dumps(payload),\n",
    "                         headers=jsonrpc_headers, \n",
    "                         auth=(lab_nexus[\"user\"], lab_nexus[\"pass\"]))\n",
    "\n",
    "print('Status code:',response.status_code)\n"
   ]
  },
  {
   "cell_type": "code",
   "execution_count": null,
   "metadata": {},
   "outputs": [],
   "source": [
    "response_json_d = json.loads(response.text)\n",
    "print(json.dumps(response_json_d, indent=4))"
   ]
  },
  {
   "cell_type": "code",
   "execution_count": null,
   "metadata": {},
   "outputs": [],
   "source": [
    "# alternative/faster way to get json data\n",
    "# response_json = response.json()\n",
    "# pprint(response_json)\n"
   ]
  },
  {
   "cell_type": "code",
   "execution_count": null,
   "metadata": {
    "scrolled": false
   },
   "outputs": [],
   "source": []
  },
  {
   "cell_type": "code",
   "execution_count": null,
   "metadata": {},
   "outputs": [],
   "source": []
  },
  {
   "cell_type": "code",
   "execution_count": null,
   "metadata": {},
   "outputs": [],
   "source": []
  },
  {
   "cell_type": "code",
   "execution_count": null,
   "metadata": {},
   "outputs": [],
   "source": []
  },
  {
   "cell_type": "code",
   "execution_count": null,
   "metadata": {},
   "outputs": [],
   "source": []
  },
  {
   "cell_type": "markdown",
   "metadata": {},
   "source": [
    "### NX-API XML\n",
    "-----"
   ]
  },
  {
   "cell_type": "code",
   "execution_count": null,
   "metadata": {},
   "outputs": [],
   "source": [
    "\n",
    "xml_headers = {'Content-Type': 'application/xml'}\n",
    "\n",
    "payload = \"\"\"<?xml version=\"1.0\"?>\n",
    "<ins_api>\n",
    "  <version>1.0</version>\n",
    "  <type>cli_show</type>\n",
    "  <chunk>0</chunk>\n",
    "  <sid>sid</sid>\n",
    "  <input>show hostname</input>\n",
    "  <output_format>xml</output_format>\n",
    "</ins_api>\"\"\"\n",
    "\n",
    "response = requests.post(uri, \n",
    "                         data=payload,\n",
    "                         headers=xml_headers, \n",
    "                         auth=(lab_nexus[\"user\"], lab_nexus[\"pass\"]))\n",
    "\n",
    "print(response.text)"
   ]
  },
  {
   "cell_type": "code",
   "execution_count": null,
   "metadata": {},
   "outputs": [],
   "source": []
  },
  {
   "cell_type": "code",
   "execution_count": null,
   "metadata": {},
   "outputs": [],
   "source": []
  },
  {
   "cell_type": "markdown",
   "metadata": {},
   "source": [
    "### NX-API JSON\n",
    "-----"
   ]
  },
  {
   "cell_type": "code",
   "execution_count": null,
   "metadata": {},
   "outputs": [],
   "source": [
    "json_headers = {'Content-Type': 'application/json'}\n",
    "\n",
    "payload ={\n",
    "  \"ins_api\": {\n",
    "    \"version\": \"1.0\",\n",
    "    \"type\": \"cli_show\",\n",
    "    \"chunk\": \"0\",\n",
    "    \"sid\": \"1\",\n",
    "    \"input\": \"show hostname\",\n",
    "    \"output_format\": \"json\"\n",
    "  }\n",
    "}\n",
    "\n",
    "response = requests.post(uri, \n",
    "                         data=json.dumps(payload),\n",
    "                         headers=json_headers, \n",
    "                         auth=(lab_nexus[\"user\"], lab_nexus[\"pass\"]))\n",
    "\n",
    "print(response.text)"
   ]
  },
  {
   "cell_type": "code",
   "execution_count": null,
   "metadata": {},
   "outputs": [],
   "source": []
  },
  {
   "cell_type": "code",
   "execution_count": null,
   "metadata": {},
   "outputs": [],
   "source": []
  },
  {
   "cell_type": "code",
   "execution_count": null,
   "metadata": {},
   "outputs": [],
   "source": []
  },
  {
   "cell_type": "code",
   "execution_count": null,
   "metadata": {},
   "outputs": [],
   "source": []
  },
  {
   "cell_type": "markdown",
   "metadata": {},
   "source": [
    "## Homework\n",
    "\n",
    "The scope of the homework is to write a python library which will allow Network Administrators to accelerate the automation in a Cisco Nexus 9000 based network, while leveraging NX-API CLI and/or NX-API REST in the Open NX-OS.   \n",
    "\n",
    "### Requirements:\n",
    "* Python 3.6+\n",
    "* list all requirements needed for your library\n",
    "* docstring/documentation present\n",
    "* the name of the library will be `nxostoolkit`\n",
    "* using your library, users will have access to a class named `nexus`\n",
    "* the class will have 3 methods: \n",
    "    * **.authenticate()**\n",
    "        * details: used to auth to a switch\n",
    "        * input: user: str, pass: str\n",
    "        * ouptut: None\n",
    "    * **.get_interface_status()**\n",
    "        * details: will return the status of specified interface\n",
    "        * input: if_name: str, representing interface names (Note: interface name can be \"Eth1/1\" or \"Ethernet1/1\" or \"Ethernet 1/1\")\n",
    "        * output: string representing the state: \"up\", \"down\", \"unknown\" \n",
    "    * **.configure_interface_desc()**\n",
    "        * details: method will configure the description of the interface\n",
    "        * input: if_name: str, description: str; Note: interface name can be \"Eth1/1\" or \"Ethernet1/1\" or \"Ethernet 1/1\"\n",
    "        * output: None\n",
    "* the class will have 2 attributes:\n",
    "    * **version**\n",
    "        * details: str representing the version running on the switch\n",
    "    * **platform**\n",
    "        * details: str representing the model of the switch. This detail can be found in the _**show version**_ output (chassis_id).\n",
    "        \n",
    "### Optional features: \n",
    "* feel free to add any additional features you would find useful"
   ]
  },
  {
   "cell_type": "code",
   "execution_count": null,
   "metadata": {},
   "outputs": [],
   "source": []
  },
  {
   "cell_type": "code",
   "execution_count": null,
   "metadata": {},
   "outputs": [],
   "source": []
  },
  {
   "cell_type": "code",
   "execution_count": null,
   "metadata": {},
   "outputs": [],
   "source": []
  },
  {
   "cell_type": "code",
   "execution_count": null,
   "metadata": {},
   "outputs": [],
   "source": []
  }
 ],
 "metadata": {
  "kernelspec": {
   "display_name": "Python 3",
   "language": "python",
   "name": "python3"
  },
  "language_info": {
   "codemirror_mode": {
    "name": "ipython",
    "version": 3
   },
   "file_extension": ".py",
   "mimetype": "text/x-python",
   "name": "python",
   "nbconvert_exporter": "python",
   "pygments_lexer": "ipython3",
   "version": "3.7.0"
  }
 },
 "nbformat": 4,
 "nbformat_minor": 2
}
